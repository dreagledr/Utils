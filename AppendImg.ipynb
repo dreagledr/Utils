{
  "nbformat": 4,
  "nbformat_minor": 0,
  "metadata": {
    "colab": {
      "provenance": [],
      "authorship_tag": "ABX9TyOYc6x9egP0mS7pADobWtb2",
      "include_colab_link": true
    },
    "kernelspec": {
      "name": "python3",
      "display_name": "Python 3"
    },
    "language_info": {
      "name": "python"
    }
  },
  "cells": [
    {
      "cell_type": "markdown",
      "metadata": {
        "id": "view-in-github",
        "colab_type": "text"
      },
      "source": [
        "<a href=\"https://colab.research.google.com/github/dreagledr/Utils/blob/main/AppendImg.ipynb\" target=\"_parent\"><img src=\"https://colab.research.google.com/assets/colab-badge.svg\" alt=\"Open In Colab\"/></a>"
      ]
    },
    {
      "cell_type": "code",
      "execution_count": null,
      "metadata": {
        "id": "yoPtxoAXnBXM"
      },
      "outputs": [],
      "source": [
        "import cv2\n",
        "import numpy as np\n",
        "img1 = cv2.imread('Attack1.png')\n",
        "img2 = cv2.imread('Death.png')\n",
        "img3 = cv2.imread('Idle.png')\n",
        "img4 = cv2.imread('Take Hit.png')\n",
        "vis = np.concatenate((img1, img2, img3, img4), axis=1)\n",
        "\n",
        "tmp = cv2.cvtColor(vis, cv2.COLOR_BGR2GRAY)\n",
        "_,alpha = cv2.threshold(tmp,0,255,cv2.THRESH_BINARY)\n",
        "b, g, r = cv2.split(vis)\n",
        "rgba = [b,g,r, alpha]\n",
        "dst = cv2.merge(rgba,4)\n",
        "\n",
        "\n",
        "cv2.imwrite('out.png', dst)"
      ]
    }
  ]
}